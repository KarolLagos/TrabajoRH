{
  "nbformat": 4,
  "nbformat_minor": 0,
  "metadata": {
    "colab": {
      "name": "Analitica3.ipynb",
      "provenance": []
    },
    "kernelspec": {
      "name": "python3",
      "display_name": "Python 3"
    },
    "language_info": {
      "name": "python"
    }
  },
  "cells": [
    {
      "cell_type": "code",
      "execution_count": null,
      "metadata": {
        "id": "9LwoQBD4Q-__"
      },
      "outputs": [],
      "source": [
        "##importar paquetes\n",
        "import pandas as pd\n",
        "import numpy as np\n",
        "import datetime as dt"
      ]
    },
    {
      "cell_type": "code",
      "source": [
        "#importar datos \n",
        "from google.colab import drive\n",
        "drive.mount('/content/drive')"
      ],
      "metadata": {
        "colab": {
          "base_uri": "https://localhost:8080/"
        },
        "id": "uEGa1yTXRLMD",
        "outputId": "13ff3e0e-ea64-4714-b3aa-dc9a266ec890"
      },
      "execution_count": null,
      "outputs": [
        {
          "output_type": "stream",
          "name": "stdout",
          "text": [
            "Mounted at /content/drive\n"
          ]
        }
      ]
    },
    {
      "cell_type": "code",
      "source": [
        "# cargar bases\n",
        "bd1 = pd.read_csv ('/content/drive/MyDrive/ANALITICA3/employee_survey_data.csv')\n",
        "bd2 = pd.read_csv ('/content/drive/MyDrive/ANALITICA3/general_data.csv', sep=\";\")\n",
        "bd3 = pd.read_csv ('/content/drive/MyDrive/ANALITICA3/in_time.csv', sep=\";\")\n",
        "bd4 = pd.read_csv ('/content/drive/MyDrive/ANALITICA3/manager_survey_data.csv', sep=\";\" )\n",
        "bd5 = pd.read_csv ('/content/drive/MyDrive/ANALITICA3/out_time.csv', sep=\";\" )\n",
        "bd6 = pd.read_csv ('/content/drive/MyDrive/ANALITICA3/retirement_info.csv', sep=\";\" )"
      ],
      "metadata": {
        "id": "GilLo7IDSCHm"
      },
      "execution_count": null,
      "outputs": []
    },
    {
      "cell_type": "code",
      "source": [
        "bd3"
      ],
      "metadata": {
        "id": "CQIoOzxHbRwy"
      },
      "execution_count": null,
      "outputs": []
    },
    {
      "cell_type": "markdown",
      "source": [
        "**#ANÁLISIS BASES**\n",
        "\n",
        "SE OBSERVARA SUS COLUMNAS PARA SABER CUALES PODRIAN SER UTILES PARA EL ANÁLISIS Y AQUELLAS QUE NO SIRVAN POR SU NÙMERO DE NULOS EN COMPARACIÓN AL NÙMERA DE DATOS TOTAL QUE TENGAN "
      ],
      "metadata": {
        "id": "DNlATeERaJfj"
      }
    },
    {
      "cell_type": "code",
      "source": [
        "#ANÁLISIS BASES\n",
        "\n",
        "lista= [bd1, bd2, bd3, bd4, bd5, bd6]\n",
        "\n",
        "for i in lista:\n",
        "  print(i.describe())\n",
        "  print(\"NULOS:\")\n",
        "  print(i.isnull().sum())\n",
        "  print('-------------------------------------------------')\n"
      ],
      "metadata": {
        "id": "r7FgsXwqThel"
      },
      "execution_count": null,
      "outputs": []
    },
    {
      "cell_type": "code",
      "source": [
        "#SE TRATA LOS NULOS DE CADA BASE\n",
        "#NO SE TOMARA LAS BASES 3 Y 5 DEBIDO A LA CANTIDAD DE NULOS EXISTENTES Y QUE LA FECHA DE CUANDO SE RETIRARON ESTÁ EN LABASE DE DATOS RETIRADOS\n",
        "#Y EN LA GENERAL SE TIENENE LOS AÑOS QUE CADA EMPLEADO TRABAJA EN LA EMPRESA POR LO QUE NO SE VE NECESARIA UTILIZARLAS\n",
        "#BASE1\n",
        "nulos = ['EnvironmentSatisfaction',  'JobSatisfaction',  'WorkLifeBalance']\n",
        "for i in nulos:\n",
        "  bd1[i] = bd1[i].fillna(bd1[i].median())\n",
        "#BASE2\n",
        "bd2['NumCompaniesWorked'] = bd2['NumCompaniesWorked'].fillna(bd2['NumCompaniesWorked'].interpolate())\n",
        "#BASE6\n",
        "bd6['resignationReason'] = bd6['resignationReason'].fillna('Others')"
      ],
      "metadata": {
        "id": "8fkic43yDQF8"
      },
      "execution_count": null,
      "outputs": []
    },
    {
      "cell_type": "code",
      "source": [
        "#se unen las bases de datos 1, 2, 4 y 6 las otas no \n",
        "from operator import concat\n",
        "bdt= bd1.merge(bd2, on = 'EmployeeID' , how = 'left')\n",
        "bdto= bdt.merge(bd4, on = 'EmployeeID' , how = 'left')\n",
        "bdtotal = bdto.merge(bd6, on = 'EmployeeID' , how = 'left')\n",
        "bdtotal.head(5)\n"
      ],
      "metadata": {
        "id": "g864c0IXTt3N"
      },
      "execution_count": null,
      "outputs": []
    },
    {
      "cell_type": "code",
      "source": [
        "#Se analizan los tipos de cada columna\n",
        "print(bdtotal.shape)\n",
        "print('-------------------------------------------------')\n",
        "print(bdtotal.isnull().sum())\n",
        "print('-------------------------------------------------')\n",
        "print(bdtotal.dtypes)\n",
        "print('-------------------------------------------------')"
      ],
      "metadata": {
        "colab": {
          "base_uri": "https://localhost:8080/"
        },
        "id": "-t0NI73bk6Ne",
        "outputId": "d396416e-735c-4130-e12c-a5adf8182438"
      },
      "execution_count": null,
      "outputs": [
        {
          "output_type": "stream",
          "name": "stdout",
          "text": [
            "(4410, 32)\n",
            "-------------------------------------------------\n",
            "EmployeeID                    0\n",
            "EnvironmentSatisfaction       0\n",
            "JobSatisfaction               0\n",
            "WorkLifeBalance               0\n",
            "Age                           0\n",
            "BusinessTravel                0\n",
            "Department                    0\n",
            "DistanceFromHome              0\n",
            "Education                     0\n",
            "EducationField                0\n",
            "EmployeeCount                 0\n",
            "Gender                        0\n",
            "JobLevel                      0\n",
            "JobRole                       0\n",
            "MaritalStatus                 0\n",
            "MonthlyIncome                 0\n",
            "NumCompaniesWorked            0\n",
            "Over18                        0\n",
            "PercentSalaryHike             0\n",
            "StandardHours                 0\n",
            "StockOptionLevel              0\n",
            "TotalWorkingYears             9\n",
            "TrainingTimesLastYear         0\n",
            "YearsAtCompany                0\n",
            "YearsSinceLastPromotion       0\n",
            "YearsWithCurrManager          0\n",
            "JobInvolvement                0\n",
            "PerformanceRating             0\n",
            "Attrition                  3699\n",
            "retirementDate             3699\n",
            "retirementType             3699\n",
            "resignationReason          3699\n",
            "dtype: int64\n",
            "-------------------------------------------------\n",
            "EmployeeID                   int64\n",
            "EnvironmentSatisfaction    float64\n",
            "JobSatisfaction            float64\n",
            "WorkLifeBalance            float64\n",
            "Age                          int64\n",
            "BusinessTravel              object\n",
            "Department                  object\n",
            "DistanceFromHome             int64\n",
            "Education                    int64\n",
            "EducationField              object\n",
            "EmployeeCount                int64\n",
            "Gender                      object\n",
            "JobLevel                     int64\n",
            "JobRole                     object\n",
            "MaritalStatus               object\n",
            "MonthlyIncome                int64\n",
            "NumCompaniesWorked         float64\n",
            "Over18                      object\n",
            "PercentSalaryHike            int64\n",
            "StandardHours                int64\n",
            "StockOptionLevel             int64\n",
            "TotalWorkingYears          float64\n",
            "TrainingTimesLastYear        int64\n",
            "YearsAtCompany               int64\n",
            "YearsSinceLastPromotion      int64\n",
            "YearsWithCurrManager         int64\n",
            "JobInvolvement               int64\n",
            "PerformanceRating            int64\n",
            "Attrition                   object\n",
            "retirementDate              object\n",
            "retirementType              object\n",
            "resignationReason           object\n",
            "dtype: object\n",
            "-------------------------------------------------\n"
          ]
        }
      ]
    },
    {
      "cell_type": "code",
      "source": [
        "#Se arregla los tipos de datos de las columnas\n",
        "bdtotal=bdtotal.convert_dtypes()\n",
        "bdtotal.dtypes"
      ],
      "metadata": {
        "id": "k45wkCrSnBlb"
      },
      "execution_count": null,
      "outputs": []
    },
    {
      "cell_type": "code",
      "source": [
        "#Se mira si la columna esta en formato fecha y se le arregla el tipo de dato\n",
        "print(bdtotal[['retirementDate']].head(10))\n",
        "bdtotal['retirementDate']= pd.to_datetime(bdtotal['retirementDate'], errors= 'coerce', format='%Y-%m-%d')\n",
        "bdtotal.dtypes"
      ],
      "metadata": {
        "id": "70_Jc5kPnq9C"
      },
      "execution_count": null,
      "outputs": []
    },
    {
      "cell_type": "markdown",
      "source": [
        "Debido a que las columnas :Attrition, retirementDate, retirementType, resignationReason, tienen nulos porque la base de datos retiros solo tiene 711 registros, al solo tomar en cuenta los empleados que se han retirado y no el nùmero total. Por lo que se decide reemplazar estos nulos por \"NO RETIRADOS\""
      ],
      "metadata": {
        "id": "KSdbguAeN5Sh"
      }
    },
    {
      "cell_type": "code",
      "source": [
        "#Reemplazo de nulos\n",
        "bdtotal['Attrition'] = bdtotal['Attrition'].fillna('Vigente')\n",
        "bdtotal['retirementDate'] = bdtotal['retirementDate'].fillna('No aplica')\n",
        "bdtotal['retirementType'] = bdtotal['retirementType'].fillna('No aplica')\n",
        "bdtotal['resignationReason'] = bdtotal['resignationReason'].fillna('No aplica')\n",
        "bdtotal.head(5)"
      ],
      "metadata": {
        "id": "YmDtdYpFNnTp"
      },
      "execution_count": null,
      "outputs": []
    },
    {
      "cell_type": "code",
      "source": [
        "#Cambiar el nombre de las columnas a minusculas\n",
        "bdtotal.columns = bdtotal.columns.str.lower()\n",
        "bdtotal.columns"
      ],
      "metadata": {
        "id": "-a5Zru3uoxbK"
      },
      "execution_count": null,
      "outputs": []
    },
    {
      "cell_type": "code",
      "source": [
        "#Homologación de categorias \n",
        "listaf= ['environmentsatisfaction', 'jobsatisfaction',\n",
        "        'worklifebalance', 'age', 'businesstravel', 'department',\n",
        "        'distancefromhome', 'education', 'educationfield', 'employeecount',\n",
        "        'gender','joblevel', 'jobrole', 'maritalstatus', 'monthlyincome',\n",
        "        'numcompaniesworked', 'over18', 'percentsalaryhike', 'standardhours',\n",
        "        'stockoptionlevel', 'totalworkingyears', 'trainingtimeslastyear',\n",
        "        'yearsatcompany', 'yearssincelastpromotion', 'yearswithcurrmanager',\n",
        "        'jobinvolvement', 'performancerating', 'attrition', 'retirementdate',\n",
        "        'retirementtype', 'resignationreason']"
      ],
      "metadata": {
        "id": "inPTSpD29ZAT"
      },
      "execution_count": null,
      "outputs": []
    },
    {
      "cell_type": "code",
      "source": [
        "for i in listaf:\n",
        "  print(bdtotal[i].value_counts())\n",
        "  print('-----------------------------------------------')"
      ],
      "metadata": {
        "colab": {
          "base_uri": "https://localhost:8080/"
        },
        "id": "e2yb7YTb7Akp",
        "outputId": "986ee253-efeb-4e4a-8662-e94782570cb2"
      },
      "execution_count": null,
      "outputs": [
        {
          "output_type": "stream",
          "name": "stdout",
          "text": [
            "3.0    1375\n",
            "4.0    1334\n",
            "2.0     856\n",
            "1.0     845\n",
            "Name: environmentsatisfaction, dtype: int64\n",
            "-----------------------------------------------\n",
            "4.0    1367\n",
            "3.0    1343\n",
            "1.0     860\n",
            "2.0     840\n",
            "Name: jobsatisfaction, dtype: int64\n",
            "-----------------------------------------------\n",
            "3.0    2698\n",
            "2.0    1019\n",
            "4.0     454\n",
            "1.0     239\n",
            "Name: worklifebalance, dtype: int64\n",
            "-----------------------------------------------\n",
            "35    234\n",
            "34    231\n",
            "31    207\n",
            "36    207\n",
            "29    204\n",
            "32    183\n",
            "30    180\n",
            "38    174\n",
            "33    174\n",
            "40    171\n",
            "37    150\n",
            "28    144\n",
            "27    144\n",
            "42    138\n",
            "39    126\n",
            "45    123\n",
            "41    120\n",
            "26    117\n",
            "46     99\n",
            "44     99\n",
            "43     96\n",
            "50     90\n",
            "24     78\n",
            "25     78\n",
            "49     72\n",
            "47     72\n",
            "55     66\n",
            "48     57\n",
            "51     57\n",
            "53     57\n",
            "52     54\n",
            "54     54\n",
            "22     48\n",
            "58     42\n",
            "23     42\n",
            "56     42\n",
            "21     39\n",
            "20     33\n",
            "59     30\n",
            "19     27\n",
            "18     24\n",
            "60     15\n",
            "57     12\n",
            "Name: age, dtype: int64\n",
            "-----------------------------------------------\n",
            "Travel_Rarely        3129\n",
            "Travel_Frequently     831\n",
            "Non-Travel            450\n",
            "Name: businesstravel, dtype: int64\n",
            "-----------------------------------------------\n",
            "Research & Development    2883\n",
            "Sales                     1338\n",
            "Human Resources            189\n",
            "Name: department, dtype: int64\n",
            "-----------------------------------------------\n",
            "2     633\n",
            "1     624\n",
            "10    258\n",
            "9     255\n",
            "3     252\n",
            "7     252\n",
            "8     240\n",
            "5     195\n",
            "4     192\n",
            "6     177\n",
            "16     96\n",
            "11     87\n",
            "24     84\n",
            "23     81\n",
            "29     81\n",
            "18     78\n",
            "15     78\n",
            "25     75\n",
            "26     75\n",
            "20     75\n",
            "28     69\n",
            "19     66\n",
            "14     63\n",
            "17     60\n",
            "12     60\n",
            "22     57\n",
            "13     57\n",
            "21     54\n",
            "27     36\n",
            "Name: distancefromhome, dtype: int64\n",
            "-----------------------------------------------\n",
            "3    1716\n",
            "4    1194\n",
            "2     846\n",
            "1     510\n",
            "5     144\n",
            "Name: education, dtype: int64\n",
            "-----------------------------------------------\n",
            "Life Sciences       1818\n",
            "Medical             1392\n",
            "Marketing            477\n",
            "Technical Degree     396\n",
            "Other                246\n",
            "Human Resources       81\n",
            "Name: educationfield, dtype: int64\n",
            "-----------------------------------------------\n",
            "1    4410\n",
            "Name: employeecount, dtype: int64\n",
            "-----------------------------------------------\n",
            "Male      2646\n",
            "Female    1764\n",
            "Name: gender, dtype: int64\n",
            "-----------------------------------------------\n",
            "1    1629\n",
            "2    1602\n",
            "3     654\n",
            "4     318\n",
            "5     207\n",
            "Name: joblevel, dtype: int64\n",
            "-----------------------------------------------\n",
            "Sales Executive              978\n",
            "Research Scientist           876\n",
            "Laboratory Technician        777\n",
            "Manufacturing Director       435\n",
            "Healthcare Representative    393\n",
            "Manager                      306\n",
            "Sales Representative         249\n",
            "Research Director            240\n",
            "Human Resources              156\n",
            "Name: jobrole, dtype: int64\n",
            "-----------------------------------------------\n",
            "Married     2019\n",
            "Single      1410\n",
            "Divorced     981\n",
            "Name: maritalstatus, dtype: int64\n",
            "-----------------------------------------------\n",
            "23420     12\n",
            "61420      9\n",
            "27410      9\n",
            "26100      9\n",
            "23800      9\n",
            "          ..\n",
            "120610     3\n",
            "56740      3\n",
            "96130      3\n",
            "69290      3\n",
            "54680      3\n",
            "Name: monthlyincome, Length: 1349, dtype: int64\n",
            "-----------------------------------------------\n",
            "1.0    1562\n",
            "0.0     586\n",
            "3.0     476\n",
            "2.0     439\n",
            "4.0     415\n",
            "7.0     222\n",
            "6.0     209\n",
            "5.0     188\n",
            "9.0     156\n",
            "8.0     147\n",
            "1.5       3\n",
            "2.5       3\n",
            "0.5       3\n",
            "4.5       1\n",
            "Name: numcompaniesworked, dtype: int64\n",
            "-----------------------------------------------\n",
            "Y    4410\n",
            "Name: over18, dtype: int64\n",
            "-----------------------------------------------\n",
            "11    630\n",
            "13    627\n",
            "14    603\n",
            "12    594\n",
            "15    303\n",
            "18    267\n",
            "17    246\n",
            "16    234\n",
            "19    228\n",
            "22    168\n",
            "20    165\n",
            "21    144\n",
            "23     84\n",
            "24     63\n",
            "25     54\n",
            "Name: percentsalaryhike, dtype: int64\n",
            "-----------------------------------------------\n",
            "8    4410\n",
            "Name: standardhours, dtype: int64\n",
            "-----------------------------------------------\n",
            "0    1893\n",
            "1    1788\n",
            "2     474\n",
            "3     255\n",
            "Name: stockoptionlevel, dtype: int64\n",
            "-----------------------------------------------\n",
            "10.0    605\n",
            "6.0     375\n",
            "8.0     307\n",
            "9.0     287\n",
            "5.0     264\n",
            "7.0     243\n",
            "1.0     242\n",
            "4.0     189\n",
            "12.0    144\n",
            "3.0     126\n",
            "15.0    120\n",
            "16.0    111\n",
            "13.0    108\n",
            "11.0    106\n",
            "21.0    102\n",
            "17.0     99\n",
            "14.0     93\n",
            "2.0      93\n",
            "20.0     89\n",
            "18.0     81\n",
            "23.0     66\n",
            "19.0     66\n",
            "22.0     62\n",
            "24.0     54\n",
            "25.0     42\n",
            "26.0     42\n",
            "28.0     42\n",
            "0.0      33\n",
            "29.0     30\n",
            "31.0     27\n",
            "32.0     27\n",
            "27.0     21\n",
            "30.0     21\n",
            "33.0     21\n",
            "36.0     18\n",
            "34.0     15\n",
            "37.0     12\n",
            "35.0      9\n",
            "40.0      6\n",
            "38.0      3\n",
            "Name: totalworkingyears, dtype: int64\n",
            "-----------------------------------------------\n",
            "2    1641\n",
            "3    1473\n",
            "4     369\n",
            "5     357\n",
            "1     213\n",
            "6     195\n",
            "0     162\n",
            "Name: trainingtimeslastyear, dtype: int64\n",
            "-----------------------------------------------\n",
            "5     588\n",
            "1     513\n",
            "3     384\n",
            "2     381\n",
            "10    360\n",
            "4     330\n",
            "7     270\n",
            "9     246\n",
            "8     240\n",
            "6     228\n",
            "0     132\n",
            "11     96\n",
            "20     81\n",
            "13     72\n",
            "15     60\n",
            "14     54\n",
            "22     45\n",
            "12     42\n",
            "21     42\n",
            "18     39\n",
            "16     36\n",
            "19     33\n",
            "17     27\n",
            "24     18\n",
            "33     15\n",
            "26     12\n",
            "25     12\n",
            "31      9\n",
            "32      9\n",
            "29      6\n",
            "27      6\n",
            "36      6\n",
            "23      6\n",
            "34      3\n",
            "30      3\n",
            "37      3\n",
            "40      3\n",
            "Name: yearsatcompany, dtype: int64\n",
            "-----------------------------------------------\n",
            "0     1743\n",
            "1     1071\n",
            "2      477\n",
            "7      228\n",
            "4      183\n",
            "3      156\n",
            "5      135\n",
            "6       96\n",
            "11      72\n",
            "8       54\n",
            "9       51\n",
            "15      39\n",
            "13      30\n",
            "12      30\n",
            "14      27\n",
            "10      18\n",
            "Name: yearssincelastpromotion, dtype: int64\n",
            "-----------------------------------------------\n",
            "2     1032\n",
            "0      789\n",
            "7      648\n",
            "3      426\n",
            "8      321\n",
            "4      294\n",
            "1      228\n",
            "9      192\n",
            "5       93\n",
            "6       87\n",
            "10      81\n",
            "11      66\n",
            "12      54\n",
            "13      42\n",
            "17      21\n",
            "15      15\n",
            "14      15\n",
            "16       6\n",
            "Name: yearswithcurrmanager, dtype: int64\n",
            "-----------------------------------------------\n",
            "3    2604\n",
            "2    1125\n",
            "4     432\n",
            "1     249\n",
            "Name: jobinvolvement, dtype: int64\n",
            "-----------------------------------------------\n",
            "3    3732\n",
            "4     678\n",
            "Name: performancerating, dtype: int64\n",
            "-----------------------------------------------\n",
            "Vigente    3699\n",
            "Yes         711\n",
            "Name: attrition, dtype: int64\n",
            "-----------------------------------------------\n",
            "No aplica     3699\n",
            "28/01/2016       6\n",
            "14/07/2016       6\n",
            "23/06/2016       6\n",
            "01/06/2016       6\n",
            "              ... \n",
            "28/04/2016       1\n",
            "01/12/2016       1\n",
            "20/05/2016       1\n",
            "23/07/2016       1\n",
            "02/10/2016       1\n",
            "Name: retirementdate, Length: 309, dtype: int64\n",
            "-----------------------------------------------\n",
            "No aplica      3699\n",
            "Resignation     641\n",
            "Fired            70\n",
            "Name: retirementtype, dtype: int64\n",
            "-----------------------------------------------\n",
            "No aplica    3699\n",
            "Others        393\n",
            "Salary        189\n",
            "Stress        129\n",
            "Name: resignationreason, dtype: int64\n",
            "-----------------------------------------------\n"
          ]
        }
      ]
    },
    {
      "cell_type": "markdown",
      "source": [
        "**HOMOLOGACIÓN DE CATEGORIAS**\n",
        "\n",
        "SE CONCLUYE QUE LAS COLUMNAS AGE, DISTANCEKM, MONTHLYINCOME, NUMCOMPANIESWORKED, PERCENTSALARY, TOTALWORKINGYEARS, YEARSATCOMPANY, YEARSSINCELASTPROMOTION Y YEARSWITHCURRMANAGER DEBEN SER AGRUPADAS POR INTERVALOS DEBIDO A SU AMPLIA CANTIDAD DE CATEGORIAS.\n",
        "\n",
        "ADEMÁS SE ELIMINARA EMPLOYEECOUNT, OVER18 Y STANDAR HOURS DEBIDO A QUE SOLO POSEEN UNA CATEGORIA\n"
      ],
      "metadata": {
        "id": "3Xd6V-FbA7lm"
      }
    },
    {
      "cell_type": "code",
      "source": [
        "#Eliminar columnas\n",
        "bdtotal1=bdtotal.drop(['employeecount','over18','standardhours'], axis=1)"
      ],
      "metadata": {
        "id": "PdPYuSoQBs-M"
      },
      "execution_count": null,
      "outputs": []
    },
    {
      "cell_type": "code",
      "source": [
        "#AGRUPAR CATEGORIAS\n"
      ],
      "metadata": {
        "id": "3s-AR1-gC3YL"
      },
      "execution_count": null,
      "outputs": []
    },
    {
      "cell_type": "markdown",
      "source": [
        ""
      ],
      "metadata": {
        "id": "cCJQgl9d-gIu"
      }
    },
    {
      "cell_type": "code",
      "source": [
        "#Homologación de categorias de tipo de dato integer\n",
        "lista1= ['businesstravel', 'department' , 'educationfield', 'gender', 'jobrole', 'maritalstatus', 'over18',\n",
        "'attrition', 'retirementtype', 'resignationreason']\n",
        "for i in lista1:\n",
        "  print(bdtotal[i].value_counts())\n",
        "  print('-----------------------------------------------')"
      ],
      "metadata": {
        "id": "YA5Mkj8o3bDJ"
      },
      "execution_count": null,
      "outputs": []
    },
    {
      "cell_type": "code",
      "source": [
        "bdtotal['gender'].value_counts()"
      ],
      "metadata": {
        "colab": {
          "base_uri": "https://localhost:8080/"
        },
        "id": "Vj2tkdwLy7gF",
        "outputId": "dc696fd5-130d-4c3e-d379-0f61519acbba"
      },
      "execution_count": null,
      "outputs": [
        {
          "output_type": "execute_result",
          "data": {
            "text/plain": [
              "Male      2646\n",
              "Female    1764\n",
              "Name: gender, dtype: Int64"
            ]
          },
          "metadata": {},
          "execution_count": 132
        }
      ]
    },
    {
      "cell_type": "code",
      "source": [
        "#Homologación de categorias de tipo de dato string\n",
        "lista1= ['businesstravel', 'department' , 'educationfield', 'gender', 'jobrole', 'maritalstatus', 'over18',\n",
        "'attrition', 'retirementtype', 'resignationreason']\n",
        "for i in lista1:\n",
        "  print(bdtotal[i].value_counts())\n",
        "  print('-----------------------------------------------')\n"
      ],
      "metadata": {
        "id": "ejTY5cmgq-ic"
      },
      "execution_count": null,
      "outputs": []
    },
    {
      "cell_type": "code",
      "source": [
        "bdtotal.columns\n",
        "bdtotal.values\n",
        "print(bdtotal['EnvironmentSatisfaction'].dtypes)\n",
        "#value.counts()"
      ],
      "metadata": {
        "id": "LJ3-cVElmGPU"
      },
      "execution_count": null,
      "outputs": []
    },
    {
      "cell_type": "code",
      "source": [
        "# Homologacion de categorias(ya todas)\n",
        "bd1['EnvironmentSatisfaction'].unique()\n",
        "#para sacar los valores unicos de una columna\n",
        "df2['mpaa_rating'].unique()\n",
        "#convierto la fecha a un mejor formato\n",
        "acc['FECHA']=acc['FECHA'].apply(lambda x:str(x)[0:10])#con esto le quito la hora a la fecha"
      ],
      "metadata": {
        "colab": {
          "base_uri": "https://localhost:8080/"
        },
        "id": "tW6FGOJyWjLS",
        "outputId": "f31a1410-8f6a-4728-ea09-1acc0a4627b6"
      },
      "execution_count": null,
      "outputs": [
        {
          "output_type": "execute_result",
          "data": {
            "text/plain": [
              "array([ 3.,  2.,  4.,  1., nan])"
            ]
          },
          "metadata": {},
          "execution_count": 12
        }
      ]
    },
    {
      "cell_type": "code",
      "source": [
        ""
      ],
      "metadata": {
        "id": "Y0HOCW3JWwkL"
      },
      "execution_count": null,
      "outputs": []
    }
  ]
}